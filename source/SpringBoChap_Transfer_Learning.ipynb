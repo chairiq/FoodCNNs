{
 "cells": [
  {
   "cell_type": "markdown",
   "metadata": {},
   "source": [
    "### Import all necessary libraries"
   ]
  },
  {
   "cell_type": "code",
   "execution_count": null,
   "metadata": {
    "scrolled": true
   },
   "outputs": [],
   "source": [
    "import tensorflow as tf\n",
    "import tensorflow.keras.backend as K\n",
    "from tensorflow.keras import regularizers\n",
    "from tensorflow.keras.applications import InceptionV3,VGG16,ResNet50,MobileNetV2, NASNetMobile\n",
    "from tensorflow.keras.applications import NASNetLarge, InceptionResNetV2, DenseNet121\n",
    "from tensorflow.keras.models import Sequential, Model\n",
    "from tensorflow.keras.layers import Dense, Dropout, Activation, Flatten\n",
    "from tensorflow.keras.layers import Convolution2D, MaxPooling2D, ZeroPadding2D, GlobalAveragePooling2D, AveragePooling2D\n",
    "from tensorflow.keras.preprocessing.image import ImageDataGenerator\n",
    "from tensorflow.keras.callbacks import ModelCheckpoint, CSVLogger\n",
    "from tensorflow.keras.optimizers import SGD\n",
    "from tensorflow.keras.regularizers import l2\n",
    "from tensorflow import keras\n",
    "import numpy as np\n",
    "\n",
    "# The following line imports the SimpleShallowNet, which is a shallow CNN\n",
    "# developed for the purposes of the this book chapter\n",
    "#from ipynb.fs.full.BCh_PureFoodNet import PureFoodNet\n",
    "K.clear_session()"
   ]
  },
  {
   "cell_type": "markdown",
   "metadata": {},
   "source": [
    "### Choose the model\n",
    "#### Choose the model that you want to use by setting the value of the \"use_the_model\" variable from 1 to 8. We should highlight that models from 1 to 7, are popular pretrained networks with ImageNet dataset , which not include the top layers. The 8th model is a simple shallow CNN netword developed for the purposes of this book chapter and it is not pretrained.\n"
   ]
  },
  {
   "cell_type": "code",
   "execution_count": null,
   "metadata": {},
   "outputs": [],
   "source": [
    "use_the_model = 9\n",
    "model_name = ''\n",
    "\n",
    "if use_the_model is 1:\n",
    "    base_model = InceptionV3(weights='imagenet', include_top=False)\n",
    "    model_name = 'InceptionV3'\n",
    "    epoch_num = 50\n",
    "    \n",
    "elif use_the_model is 2: \n",
    "    base_model = VGG16(weights='imagenet', include_top=False)\n",
    "    model_name = 'VGG16'\n",
    "    epoch_num = 70\n",
    "    \n",
    "elif use_the_model is 3: \n",
    "    base_model = ResNet50(weights='imagenet', include_top=False)\n",
    "    model_name = 'ResNet50'\n",
    "    epoch_num = 30\n",
    "    \n",
    "elif use_the_model is 4: \n",
    "    base_model = InceptionResNetV2(weights='imagenet', include_top=False)\n",
    "    model_name = 'InceptionResNetV2'\n",
    "    epoch_num = 50\n",
    "    \n",
    "elif use_the_model is 5: \n",
    "    base_model = NASNetMobile(input_shape=(224,224,3), weights='imagenet', include_top=False)\n",
    "    model_name = 'NASNetMobile'\n",
    "    epoch_num = 50\n",
    "elif use_the_model is 6: \n",
    "    base_model = NASNetLarge(input_shape=(331,331,3), weights='imagenet', include_top=False)\n",
    "    model_name = 'NASNetLarge'\n",
    "    epoch_num = 50\n",
    "    \n",
    "elif use_the_model is 7: \n",
    "    base_model = MobileNetV2(weights='imagenet', include_top=False)\n",
    "    model_name = 'MobileNetV2'\n",
    "    epoch_num = 70\n",
    "    \n",
    "elif use_the_model is 8: \n",
    "    base_model = DenseNet121(weights='imagenet', include_top=False)\n",
    "    model_name = 'DenseNet121'\n",
    "    epoch_num = 50\n",
    "    \n",
    "elif use_the_model is 9: \n",
    "    base_model = PureFoodNet.getModel(input_shape=train_generator.image_shape)\n",
    "    model_name = 'PureFoodNet'\n",
    "    epoch_num = 300\n",
    "\n",
    "print(\"({}) {} model loaded with {} epochs.\".format(model_name,use_the_model, epoch_num))"
   ]
  },
  {
   "cell_type": "markdown",
   "metadata": {},
   "source": [
    "### Prepare the training and the validation sets of the food101 dataset\n",
    "#### Add a small image augmentation to the training set (shear_range, zoom_range, horizontal_flip)"
   ]
  },
  {
   "cell_type": "code",
   "execution_count": null,
   "metadata": {},
   "outputs": [],
   "source": [
    "img_width, img_height = 299, 299\n",
    "train_data_dir = 'food-101/train/'\n",
    "validation_data_dir = 'food-101/test/'\n",
    "batch_size = 256\n",
    "\n",
    "train_datagen = ImageDataGenerator(\n",
    "    rescale=1. / 255,\n",
    "    shear_range=0.2,\n",
    "    zoom_range=0.2,\n",
    "    horizontal_flip=True)\n",
    "\n",
    "test_datagen = ImageDataGenerator(rescale=1. / 255)\n",
    "\n",
    "train_generator = train_datagen.flow_from_directory(\n",
    "    train_data_dir,\n",
    "    target_size=(img_height, img_width),\n",
    "    batch_size=batch_size,\n",
    "    class_mode='categorical')\n",
    "\n",
    "validation_generator = test_datagen.flow_from_directory(\n",
    "    validation_data_dir,\n",
    "    target_size=(img_height, img_width),\n",
    "    batch_size=batch_size,\n",
    "    class_mode='categorical')\n",
    "\n",
    "nb_train_samples = train_generator.n\n",
    "nb_validation_samples = validation_generator.n\n",
    "n_classes = train_generator.num_classes"
   ]
  },
  {
   "cell_type": "markdown",
   "metadata": {},
   "source": [
    "### Add new top layers to the selected model"
   ]
  },
  {
   "cell_type": "code",
   "execution_count": null,
   "metadata": {},
   "outputs": [],
   "source": [
    "x = base_model.output\n",
    "x = GlobalAveragePooling2D()(x)\n",
    "x = Dense(512,activation='relu')(x)\n",
    "x = Dropout(0.2)(x)\n",
    "\n",
    "predictions = Dense(n_classes,\n",
    "                    kernel_regularizer=regularizers.l2(0.005), \n",
    "                    activation='softmax')(x)\n",
    "\n",
    "model = Model(inputs=base_model.input, outputs=predictions)"
   ]
  },
  {
   "cell_type": "markdown",
   "metadata": {},
   "source": [
    "### Compile the model\n",
    "#### Compile the model with SGD optimazer, and use top 1 and top 5 accuracy metrics. Initialize two callbacks, one for checkpoints and one for the training logs"
   ]
  },
  {
   "cell_type": "code",
   "execution_count": null,
   "metadata": {},
   "outputs": [],
   "source": [
    "model.compile(optimizer=SGD(lr=0.0001, momentum=0.9), \n",
    "              loss='categorical_crossentropy', \n",
    "              metrics=['accuracy','top_k_categorical_accuracy'])\n",
    "\n",
    "checkpointer = ModelCheckpoint(filepath='best_model_food101_'+model_name+'.hdf5',\n",
    "                               verbose=1,\n",
    "                               save_best_only=True)\n",
    "csv_logger = CSVLogger('hist_food101_'+model_name+'.log')"
   ]
  },
  {
   "cell_type": "markdown",
   "metadata": {},
   "source": [
    "### Training session of the selected model"
   ]
  },
  {
   "cell_type": "code",
   "execution_count": null,
   "metadata": {
    "scrolled": true
   },
   "outputs": [],
   "source": [
    "hist = model.fit_generator(train_generator,\n",
    "                           steps_per_epoch = nb_train_samples // batch_size,\n",
    "                           validation_data = validation_generator,\n",
    "                           validation_steps = nb_validation_samples // batch_size,\n",
    "                           epochs = epoch_num,\n",
    "                           verbose = 1,\n",
    "                           callbacks = [csv_logger, checkpointer]\n",
    "                          )"
   ]
  },
  {
   "cell_type": "markdown",
   "metadata": {},
   "source": [
    "### Save the last trained model"
   ]
  },
  {
   "cell_type": "code",
   "execution_count": null,
   "metadata": {},
   "outputs": [],
   "source": [
    "model.save('last_model_food101_'+str(model_name)+'_acc'+str(max(hist.history['acc']))+'.hdf5')"
   ]
  }
 ],
 "metadata": {
  "kernelspec": {
   "display_name": "Python 3",
   "language": "python",
   "name": "python3"
  },
  "language_info": {
   "codemirror_mode": {
    "name": "ipython",
    "version": 3
   },
   "file_extension": ".py",
   "mimetype": "text/x-python",
   "name": "python",
   "nbconvert_exporter": "python",
   "pygments_lexer": "ipython3",
   "version": "3.6.8"
  },
  "toc": {
   "base_numbering": 1,
   "nav_menu": {},
   "number_sections": true,
   "sideBar": true,
   "skip_h1_title": false,
   "title_cell": "Table of Contents",
   "title_sidebar": "Contents",
   "toc_cell": false,
   "toc_position": {},
   "toc_section_display": true,
   "toc_window_display": false
  },
  "varInspector": {
   "cols": {
    "lenName": 16,
    "lenType": 16,
    "lenVar": 40
   },
   "kernels_config": {
    "python": {
     "delete_cmd_postfix": "",
     "delete_cmd_prefix": "del ",
     "library": "var_list.py",
     "varRefreshCmd": "print(var_dic_list())"
    },
    "r": {
     "delete_cmd_postfix": ") ",
     "delete_cmd_prefix": "rm(",
     "library": "var_list.r",
     "varRefreshCmd": "cat(var_dic_list()) "
    }
   },
   "types_to_exclude": [
    "module",
    "function",
    "builtin_function_or_method",
    "instance",
    "_Feature"
   ],
   "window_display": false
  }
 },
 "nbformat": 4,
 "nbformat_minor": 3
}
