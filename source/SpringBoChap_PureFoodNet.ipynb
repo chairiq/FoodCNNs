{
 "cells": [
  {
   "cell_type": "markdown",
   "metadata": {},
   "source": [
    "## PureFoodNet implementation"
   ]
  },
  {
   "cell_type": "code",
   "execution_count": null,
   "metadata": {
    "code_folding": []
   },
   "outputs": [],
   "source": [
    "#libraries\n",
    "from tensorflow import keras\n",
    "from tensorflow.keras.optimizers import Adam, RMSprop \n",
    "from tensorflow.keras.models import Sequential \n",
    "from tensorflow.keras.layers import Dense, Activation, Dropout, Flatten, Conv2D\n",
    "from tensorflow.keras.layers import MaxPool2D, BatchNormalization, GlobalAveragePooling2D\n",
    "from tensorflow.keras.regularizers import l2\n",
    "from tensorflow.keras import backend as K\n",
    "from tensorflow.keras.preprocessing.image import ImageDataGenerator\n",
    "from tensorflow.keras.callbacks import ModelCheckpoint, CSVLogger, EarlyStopping, ReduceLROnPlateau, LearningRateScheduler\n",
    "\n",
    "K.clear_session()"
   ]
  },
  {
   "cell_type": "code",
   "execution_count": null,
   "metadata": {
    "code_folding": []
   },
   "outputs": [],
   "source": [
    "class PureFoodNet:\n",
    "    # The model\n",
    "    def getModel(input_shape=(224,224,3), num_classes=3):\n",
    "        \n",
    "        model = Sequential()\n",
    "                \n",
    "        #Block 1\n",
    "        model.add(Conv2D(input_shape = input_shape,\n",
    "                         filters = 128, kernel_size = (5,5), strides = 2, padding = 'Same', name='block1_conv1',\n",
    "                         activation ='relu', kernel_initializer='he_normal'))\n",
    "        model.add(Conv2D(filters = 128, kernel_size = (5,5), strides = 2, padding = 'Same', name='block1_conv2',\n",
    "                         activation ='relu',kernel_initializer='he_normal'))\n",
    "        model.add(MaxPool2D(strides=(2, 2), name='block1_pool'))\n",
    "        model.add(BatchNormalization())\n",
    "        model.add(Dropout(0.25))\n",
    "        \n",
    "        #Block 2\n",
    "        model.add(Conv2D(filters = 256, kernel_size = (3,3),padding = 'Same', name='block2_conv1',\n",
    "                         activation ='relu',kernel_initializer='he_normal'))\n",
    "        model.add(Conv2D(filters = 256, kernel_size = (3,3),padding = 'Same', name='block2_conv2',\n",
    "                         activation ='relu',kernel_initializer='he_normal'))\n",
    "        model.add(Conv2D(filters = 256, kernel_size = (3,3),padding = 'Same', name='block2_conv3',\n",
    "                         activation ='relu',kernel_initializer='he_normal'))\n",
    "        model.add(MaxPool2D(strides=(2, 2), name='block2_pool'))\n",
    "        model.add(BatchNormalization())\n",
    "        model.add(Dropout(0.35))\n",
    "        \n",
    "        #Block 3\n",
    "        model.add(Conv2D(filters = 512, kernel_size = (3,3),padding = 'Same', name='block3_conv1',\n",
    "                         activation ='relu',kernel_initializer='he_normal'))\n",
    "        model.add(Conv2D(filters = 512, kernel_size = (3,3),padding = 'Same', name='block3_conv2',\n",
    "                         activation ='relu',kernel_initializer='he_normal'))\n",
    "        model.add(Conv2D(filters = 512, kernel_size = (3,3),padding = 'Same', name='block3_conv3',\n",
    "                         activation ='relu',kernel_initializer='he_normal'))\n",
    "        model.add(MaxPool2D(strides=(2, 2), name='block3_pool'))\n",
    "        model.add(BatchNormalization())\n",
    "        model.add(Dropout(0.35))\n",
    "        \n",
    "        #Block 4\n",
    "        model.add(GlobalAveragePooling2D())\n",
    "        model.add(Dense(512, activation = \"relu\", kernel_initializer='he_normal'))\n",
    "        model.add(Dropout(0.4))\n",
    "        model.add(Dense(num_classes,\n",
    "                        activation = \"softmax\",\n",
    "                        kernel_initializer='he_normal',\n",
    "                        kernel_regularizer=l2()))\n",
    "\n",
    "        return model"
   ]
  },
  {
   "cell_type": "code",
   "execution_count": null,
   "metadata": {
    "code_folding": [
     27
    ]
   },
   "outputs": [],
   "source": [
    "img_width, img_height = 299, 299\n",
    "train_data_dir = 'food-101/train/'\n",
    "validation_data_dir = 'food-101/test/'\n",
    "specific_classes = None #['apple_pie', 'greek_salad', 'baklava']\n",
    "batch_size = 128\n",
    "\n",
    "train_datagen = ImageDataGenerator(\n",
    "    rescale=1. / 255,\n",
    "    rotation_range=10,\n",
    "    width_shift_range=0.05,\n",
    "    height_shift_range=0.05,\n",
    "    shear_range=0.2,\n",
    "    zoom_range=0.2,\n",
    "    channel_shift_range=10,\n",
    "    horizontal_flip=True,\n",
    "    fill_mode='constant' \n",
    ")\n",
    "\n",
    "test_datagen = ImageDataGenerator(rescale=1. / 255)\n",
    "\n",
    "train_generator = train_datagen.flow_from_directory(\n",
    "    classes = specific_classes,\n",
    "    directory = train_data_dir,\n",
    "    target_size=(img_height, img_width),\n",
    "    batch_size=batch_size,\n",
    "    class_mode='categorical')\n",
    "\n",
    "validation_generator = test_datagen.flow_from_directory(\n",
    "    classes = specific_classes,\n",
    "    directory = validation_data_dir,\n",
    "    target_size=(img_height, img_width),\n",
    "    batch_size=batch_size,\n",
    "    class_mode='categorical')\n",
    "\n",
    "nb_train_samples = train_generator.n\n",
    "nb_validation_samples = validation_generator.n\n",
    "n_classes = train_generator.num_classes\n",
    "\n",
    "model_name = 'PureFoodNet_299x299Nadam_2'\n",
    "epoch_num = 50"
   ]
  },
  {
   "cell_type": "code",
   "execution_count": null,
   "metadata": {},
   "outputs": [],
   "source": [
    "model = PureFoodNet.getModel(input_shape=train_generator.image_shape,\n",
    "                                  num_classes = n_classes)\n",
    "model.summary()"
   ]
  },
  {
   "cell_type": "code",
   "execution_count": null,
   "metadata": {
    "code_folding": []
   },
   "outputs": [],
   "source": [
    "# learning rate scheduler\n",
    "def schedule(epoch):\n",
    "    if epoch < 10:\n",
    "         new_lr = .001\n",
    "    elif epoch < 14:\n",
    "         new_lr = .0006\n",
    "    elif epoch < 17:\n",
    "         new_lr = .0003\n",
    "    elif epoch < 20:\n",
    "         new_lr = .0001\n",
    "    elif epoch < 23:\n",
    "         new_lr = .00005\n",
    "    else:\n",
    "         new_lr = .00001\n",
    "    \n",
    "    print(\"\\nLR at epoch {} = {}  \\n\".format(epoch,new_lr))\n",
    "    return new_lr\n",
    "    \n",
    "lr_scheduler = LearningRateScheduler(schedule)"
   ]
  },
  {
   "cell_type": "code",
   "execution_count": null,
   "metadata": {
    "code_folding": [
     0,
     4
    ]
   },
   "outputs": [],
   "source": [
    "model.compile(optimizer='Nadam', \n",
    "              loss='categorical_crossentropy', \n",
    "              metrics=['accuracy','top_k_categorical_accuracy'])\n",
    "\n",
    "checkpointer = ModelCheckpoint(filepath='best_model_food101_'+model_name+'.hdf5',\n",
    "                               verbose=1,\n",
    "                               save_best_only=True)\n",
    "\n",
    "csv_logger = CSVLogger('hist_food101_'+model_name+'.log')\n"
   ]
  },
  {
   "cell_type": "code",
   "execution_count": null,
   "metadata": {
    "code_folding": [],
    "scrolled": true
   },
   "outputs": [],
   "source": [
    "hist = model.fit_generator(train_generator,\n",
    "                           steps_per_epoch = nb_train_samples // batch_size,\n",
    "                           validation_data = validation_generator,\n",
    "                           validation_steps = nb_validation_samples // batch_size,\n",
    "                           epochs = epoch_num,\n",
    "                           verbose = 1,\n",
    "                           callbacks = [csv_logger, checkpointer, lr_scheduler]\n",
    "                          )"
   ]
  },
  {
   "cell_type": "code",
   "execution_count": null,
   "metadata": {},
   "outputs": [],
   "source": []
  }
 ],
 "metadata": {
  "kernelspec": {
   "display_name": "Python 3",
   "language": "python",
   "name": "python3"
  },
  "language_info": {
   "codemirror_mode": {
    "name": "ipython",
    "version": 3
   },
   "file_extension": ".py",
   "mimetype": "text/x-python",
   "name": "python",
   "nbconvert_exporter": "python",
   "pygments_lexer": "ipython3",
   "version": "3.6.8"
  },
  "toc": {
   "base_numbering": 1,
   "nav_menu": {},
   "number_sections": true,
   "sideBar": true,
   "skip_h1_title": false,
   "title_cell": "Table of Contents",
   "title_sidebar": "Contents",
   "toc_cell": false,
   "toc_position": {},
   "toc_section_display": true,
   "toc_window_display": false
  },
  "varInspector": {
   "cols": {
    "lenName": 16,
    "lenType": 16,
    "lenVar": 40
   },
   "kernels_config": {
    "python": {
     "delete_cmd_postfix": "",
     "delete_cmd_prefix": "del ",
     "library": "var_list.py",
     "varRefreshCmd": "print(var_dic_list())"
    },
    "r": {
     "delete_cmd_postfix": ") ",
     "delete_cmd_prefix": "rm(",
     "library": "var_list.r",
     "varRefreshCmd": "cat(var_dic_list()) "
    }
   },
   "types_to_exclude": [
    "module",
    "function",
    "builtin_function_or_method",
    "instance",
    "_Feature"
   ],
   "window_display": false
  }
 },
 "nbformat": 4,
 "nbformat_minor": 2
}
