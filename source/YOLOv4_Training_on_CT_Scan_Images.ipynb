{
  "nbformat": 4,
  "nbformat_minor": 0,
  "metadata": {
    "colab": {
      "name": "YOLOv4_Training_on_CT-Scan_Images.ipynb",
      "provenance": [],
      "collapsed_sections": [],
      "toc_visible": true,
      "include_colab_link": true
    },
    "kernelspec": {
      "name": "python3",
      "display_name": "Python 3"
    },
    "accelerator": "GPU"
  },
  "cells": [
    {
      "cell_type": "markdown",
      "metadata": {
        "id": "view-in-github",
        "colab_type": "text"
      },
      "source": [
        "<a href=\"https://colab.research.google.com/github/chairiq/FoodCNNs/blob/master/source/YOLOv4_Training_on_CT_Scan_Images.ipynb\" target=\"_parent\"><img src=\"https://colab.research.google.com/assets/colab-badge.svg\" alt=\"Open In Colab\"/></a>"
      ]
    },
    {
      "cell_type": "markdown",
      "metadata": {
        "id": "pSu71pb_lVqv"
      },
      "source": [
        "# This following pipline was developed based on the instructions and code of the two following repositories.\n",
        "*   [AlexeyAB](https://github.com/AlexeyAB/darknet)\n",
        "*   [theAIGuysCode](https://github.com/theAIGuysCode)\n",
        "\n"
      ]
    },
    {
      "cell_type": "markdown",
      "metadata": {
        "id": "uvwq9TK94CWX"
      },
      "source": [
        "# Step 1: Connect to Google Drive"
      ]
    },
    {
      "cell_type": "code",
      "metadata": {
        "id": "ORmD42BGcx3Y"
      },
      "source": [
        "from google.colab import drive\n",
        "drive.mount('/content/drive')"
      ],
      "execution_count": null,
      "outputs": []
    },
    {
      "cell_type": "markdown",
      "metadata": {
        "id": "gE3azXoR_pWi"
      },
      "source": [
        "# Step 2: Cloning and Building Darknet\n",
        "\n"
      ]
    },
    {
      "cell_type": "code",
      "metadata": {
        "id": "68eMertgIxaB"
      },
      "source": [
        "# clone darknet repo\n",
        "!git clone https://github.com/AlexeyAB/darknet"
      ],
      "execution_count": null,
      "outputs": []
    },
    {
      "cell_type": "code",
      "metadata": {
        "id": "xym8_m8CIyXK"
      },
      "source": [
        "# change makefile to have GPU and OPENCV enabled\n",
        "%cd darknet\n",
        "!sed -i 's/OPENCV=0/OPENCV=1/' Makefile\n",
        "!sed -i 's/GPU=0/GPU=1/' Makefile\n",
        "!sed -i 's/CUDNN=0/CUDNN=1/' Makefile\n",
        "!sed -i 's/CUDNN_HALF=0/CUDNN_HALF=1/' Makefile\n",
        "!sed -i '0,/assert(x < m.w && y < m.h && c < m.c)/s//\\/\\/assert(x \\< m.w \\&\\& y \\< m.h \\&\\& c \\< m.c)/' src/image.c\n",
        "\n",
        "# verify CUDA\n",
        "!/usr/local/cuda/bin/nvcc --version"
      ],
      "execution_count": null,
      "outputs": []
    },
    {
      "cell_type": "code",
      "metadata": {
        "id": "q2Jjv0yRKLPe"
      },
      "source": [
        "# make darknet (builds darknet so that you can then use the darknet executable file to run or train object detectors)\n",
        "!make"
      ],
      "execution_count": null,
      "outputs": []
    },
    {
      "cell_type": "markdown",
      "metadata": {
        "id": "kEAHXkH_mo-s"
      },
      "source": [
        "# Step 3: Download pre-trained YOLOv4 weights"
      ]
    },
    {
      "cell_type": "code",
      "metadata": {
        "id": "vVtgyY_ELoSf"
      },
      "source": [
        "!wget https://github.com/AlexeyAB/darknet/releases/download/darknet_yolo_v3_optimal/yolov4.weights"
      ],
      "execution_count": null,
      "outputs": []
    },
    {
      "cell_type": "markdown",
      "metadata": {
        "id": "xn7TpB-UMBWf"
      },
      "source": [
        "# Step 4: Define Helper Functions\n"
      ]
    },
    {
      "cell_type": "code",
      "metadata": {
        "id": "G9Fv0wjCMPYY"
      },
      "source": [
        "# define helper functions\n",
        "def imShow(path):\n",
        "  import cv2\n",
        "  import matplotlib.pyplot as plt\n",
        "  %matplotlib inline\n",
        "\n",
        "  image = cv2.imread(path)\n",
        "  height, width = image.shape[:2]\n",
        "  resized_image = cv2.resize(image,(3*width, 3*height), interpolation = cv2.INTER_CUBIC)\n",
        "\n",
        "  fig = plt.gcf()\n",
        "  fig.set_size_inches(18, 10)\n",
        "  plt.axis(\"off\")\n",
        "  plt.imshow(cv2.cvtColor(resized_image, cv2.COLOR_BGR2RGB))\n",
        "  plt.show()\n",
        "\n",
        "# use this to upload files\n",
        "def upload():\n",
        "  from google.colab import files\n",
        "  uploaded = files.upload() \n",
        "  for name, data in uploaded.items():\n",
        "    with open(name, 'wb') as f:\n",
        "      f.write(data)\n",
        "      print ('saved file', name)\n",
        "\n",
        "# use this to download a file  \n",
        "def download(path):\n",
        "  from google.colab import files\n",
        "  files.download(path)"
      ],
      "execution_count": null,
      "outputs": []
    },
    {
      "cell_type": "code",
      "metadata": {
        "id": "bBFiu7rFZdmU"
      },
      "source": [
        "# this creates a symbolic link so that now the path /content/gdrive/My\\ Drive/ is equal to /mydrive\n",
        "!ln -s /content/drive/MyDrive/ /mydrive \n",
        "!ls /mydrive"
      ],
      "execution_count": null,
      "outputs": []
    },
    {
      "cell_type": "markdown",
      "metadata": {
        "id": "qaONUTI2l4Sf"
      },
      "source": [
        "# Step 5) Train Your Own YOLOv4 Custom Object Detector!\n",
        "\n",
        "In order to create a custom YOLOv4 detector we will need the following:\n",
        "\n",
        "*   Labeled Custom Dataset\n",
        "*   Custom .cfg file\n",
        "*   ctscans.data and ctscans.names files\n",
        "*   train.txt file (test.txt is optional here as well)"
      ]
    },
    {
      "cell_type": "markdown",
      "metadata": {
        "id": "9ket44SxkdBu"
      },
      "source": [
        "## Step 5.1: Moving Your Custom Datasets Into Your Cloud VM\n"
      ]
    },
    {
      "cell_type": "code",
      "metadata": {
        "id": "BWR9Qo8Umnk_"
      },
      "source": [
        "! cp -R /mydrive/yolov4/ctscans-train /content/darknet/data/ctscans-train\n",
        "! cp -R /mydrive/yolov4/ctscans-test /content/darknet/data/ctscans-test"
      ],
      "execution_count": null,
      "outputs": []
    },
    {
      "cell_type": "markdown",
      "metadata": {
        "id": "a4b33o9EiHUD"
      },
      "source": [
        "## Step 5.2: Copy Files for Training\n",
        "Create a new file within a code or text editor called **ctscans.names** where you will have one class name per line.\n",
        "\n",
        "1. Yes\n",
        "\n",
        "You will also create a **ctscans.data** file and fill it in like this (change your number of classes accordingly, as well as your backup location)\n",
        "\n",
        "\n",
        "1. class = 1\n",
        "2. train = data/ctscans-train.txt\n",
        "3. valid = data/ctscans-test.txt\n",
        "4. names = data/ctscans.names\n",
        "5. backup = /mydrive/yolo4/backup\n",
        "\n"
      ]
    },
    {
      "cell_type": "code",
      "metadata": {
        "id": "1vuqvzvLUtw2"
      },
      "source": [
        "# upload the obj.names and obj.data files to cloud VM from Google Drive\n",
        "!cp /mydrive/yolov4/support-files/ctscans.names ./data\n",
        "!cp /mydrive/yolov4/support-files/ctscans.data  ./data\n",
        "!cp /mydrive/yolov4/support-files/yolov4-ctscans.cfg cfg/yolov4-ctscans.cfg"
      ],
      "execution_count": null,
      "outputs": []
    },
    {
      "cell_type": "markdown",
      "metadata": {
        "id": "zIA38VpCU1y9"
      },
      "source": [
        "## iii) Generating train.txt and test.txt\n",
        "\n"
      ]
    },
    {
      "cell_type": "code",
      "metadata": {
        "id": "4mgiK3C2ZF0k"
      },
      "source": [
        "# upload the generate_train.py and generate_test.py script to cloud VM from Google Drive\n",
        "!cp /mydrive/yolov4/support-files/generate_train.py ./\n",
        "!cp /mydrive/yolov4/support-files/generate_test.py ./"
      ],
      "execution_count": null,
      "outputs": []
    },
    {
      "cell_type": "code",
      "metadata": {
        "id": "DAKjJSJwJb5R"
      },
      "source": [
        "# Run both scripts to genereate the twio aformentioned txt files\n",
        "!python generate_train.py\n",
        "!python generate_test.py"
      ],
      "execution_count": null,
      "outputs": []
    },
    {
      "cell_type": "markdown",
      "metadata": {
        "id": "nrkC4l-PbmNS"
      },
      "source": [
        "# Step 6: Download pre-trained weights for the convolutional layers.\n"
      ]
    },
    {
      "cell_type": "code",
      "metadata": {
        "id": "KcUKbtO-byOE"
      },
      "source": [
        "!wget https://github.com/AlexeyAB/darknet/releases/download/darknet_yolo_v3_optimal/yolov4.conv.137"
      ],
      "execution_count": null,
      "outputs": []
    },
    {
      "cell_type": "markdown",
      "metadata": {
        "id": "POozxsvFdXTu"
      },
      "source": [
        "# Step 7: Train Your Custom Object Detector!\n"
      ]
    },
    {
      "cell_type": "code",
      "metadata": {
        "id": "imc0NP19hLuq"
      },
      "source": [
        "# train your custom detector! (uncomment %%capture below if you run into memory issues or your Colab is crashing)\n",
        "# %%capture\n",
        "!./darknet detector train data/ctscans.data cfg/yolov4-ctscans.cfg yolov4.conv.137 -dont_show -ext_output -map\n"
      ],
      "execution_count": null,
      "outputs": []
    },
    {
      "cell_type": "code",
      "metadata": {
        "id": "uXPGYKmchv7Z"
      },
      "source": [
        "# show chart.png of how custom object detector did with training and save to to the backup folder\n",
        "imShow('chart.png')\n",
        "!mv chart.png /mydrive/yolov4/backup/"
      ],
      "execution_count": null,
      "outputs": []
    },
    {
      "cell_type": "markdown",
      "metadata": {
        "id": "8dfPY2h39m-T"
      },
      "source": [
        "# Step 9: Run Your Custom Object Detector!!!\n"
      ]
    },
    {
      "cell_type": "code",
      "metadata": {
        "id": "xXkZNeA09o2f"
      },
      "source": [
        "# need to set our custom cfg to test mode \n",
        "%cd cfg\n",
        "!sed -i 's/batch=64/batch=1/' yolov4-ctscans.cfg\n",
        "!sed -i 's/subdivisions=16/subdivisions=1/' yolov4-ctscans.cfg\n",
        "%cd .."
      ],
      "execution_count": null,
      "outputs": []
    },
    {
      "cell_type": "code",
      "metadata": {
        "id": "o7IIzEal90dA"
      },
      "source": [
        "# run your custom detector with this command (upload an image to your google drive to test, thresh flag sets accuracy that detection must be in order to show it)\n",
        "!./darknet detector test data/ctscans.data cfg/yolov4-ctscans.cfg /mydrive/yolov4/backup/yolov4-ctscans_last.weights /my_image.jpg -thresh 0.6\n",
        "imShow('predictions.jpg')"
      ],
      "execution_count": null,
      "outputs": []
    },
    {
      "cell_type": "markdown",
      "metadata": {
        "id": "CBFrf0duQuUu"
      },
      "source": [
        "Cite this work as:   "
      ]
    }
  ]
}